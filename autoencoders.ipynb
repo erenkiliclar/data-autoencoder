{
  "cells": [
    {
      "cell_type": "markdown",
      "metadata": {
        "id": "eoYUyLXkZ4p0"
      },
      "source": [
        "# Autoencoders"
      ]
    },
    {
      "cell_type": "markdown",
      "metadata": {
        "id": "qpRuldPYZ4p2"
      },
      "source": [
        "🎯 **Exercise objectives**\n",
        "- Discover ***autoencoders***\n",
        "- Get a deeper understanding of CNNs\n",
        "\n",
        "<hr>\n",
        "\n",
        "👉 There exists a very particular architecture in Deep Learning called **`Autoencoders`**. Autoencoders are Neural Network architectures trained to return **outputs that are as similar as possible to the original inputs fed to them**. Why would we do that?  \n",
        "\n",
        "Before answering the question _\"why\"_, let's answer the question _\"how\"_.\n",
        "\n",
        "👩🏻‍🏫 <u>***How does an autoencoder work ?***</u>\n",
        "\n",
        "There are two parts in an autoencoder: the  **`encoder`** and the **`decoder`**.\n",
        "\n",
        "1. In the encoder, we will make the information flow through different dense layers with a decreasing number of neurons. It will create a **`bottleneck`** where the information is compressed.\n",
        "\n",
        "2. In the decoder, we will try to recreate the original data based on the compressed data.\n",
        "\n",
        "🔥 <u>***Why is it powerful or useful?***</u>\n",
        "\n",
        "If it works well, it means two important things:\n",
        "\n",
        "* ✅ We can afford to **compress our dataset** and use a compressed version of it when fitting another Neural Network! \n",
        "\n",
        "* ✅ The **information contained in the bottleneck** - i.e. the data compressed in a low-dimensional layer - **accurately captures the patterns of our dataset** and the autoencoder is able to decode the compressed information!\n",
        "\n",
        "🌠 <u>**Applications:**</u>\n",
        "- Image compression\n",
        "- Denoising (cf. Google Pixel phones...)\n",
        "- Image generation!\n",
        "\n",
        "\n",
        "<img src='https://wagon-public-datasets.s3.amazonaws.com/data-science-images/DL/autoencoder.png'>"
      ]
    },
    {
      "cell_type": "markdown",
      "metadata": {
        "id": "92EPHYLxZ4p3"
      },
      "source": [
        "## Google Colab Setup"
      ]
    },
    {
      "cell_type": "markdown",
      "metadata": {
        "id": "ieSm6iw9HizE"
      },
      "source": [
        "Repeat the same process from the last challenge to upload your challenge folder and open your notebook:\n",
        "\n",
        "1. access your [Google Drive](https://drive.google.com/)\n",
        "2. go into the Colab Notebooks folder\n",
        "3. drag and drop this challenge's folder into it\n",
        "4. right-click the notebook file and select `Open with` $\\rightarrow$ `Google Colaboratory`"
      ]
    },
    {
      "cell_type": "markdown",
      "metadata": {
        "id": "87wB87mNZ4p4"
      },
      "source": [
        "Don't forget to enable GPU acceleration!\n",
        "\n",
        "`Runtime` $\\rightarrow$ `Change runtime type` $\\rightarrow$ `Hardware accelerator` $\\rightarrow$ `GPU`"
      ]
    },
    {
      "cell_type": "markdown",
      "metadata": {
        "id": "oRsePK8CZ4p4"
      },
      "source": [
        "When this is done, run the cells below and get to work!"
      ]
    },
    {
      "cell_type": "code",
      "execution_count": 2,
      "metadata": {
        "colab": {
          "base_uri": "https://localhost:8080/"
        },
        "id": "_q8uOTzh5vwJ",
        "outputId": "9f74f299-7a1c-4637-a202-d05486fef26e"
      },
      "outputs": [
        {
          "output_type": "stream",
          "name": "stdout",
          "text": [
            "Drive already mounted at /content/drive; to attempt to forcibly remount, call drive.mount(\"/content/drive\", force_remount=True).\n"
          ]
        }
      ],
      "source": [
        "# Mount GDrive\n",
        "from google.colab import drive\n",
        "drive.mount('/content/drive')"
      ]
    },
    {
      "cell_type": "code",
      "execution_count": 3,
      "metadata": {
        "id": "7HCO04lsIrcd",
        "colab": {
          "base_uri": "https://localhost:8080/",
          "height": 207
        },
        "outputId": "8b500265-b216-40b2-cb01-8e605db5dbe2"
      },
      "outputs": [
        {
          "output_type": "error",
          "ename": "FileNotFoundError",
          "evalue": "ignored",
          "traceback": [
            "\u001b[0;31m---------------------------------------------------------------------------\u001b[0m",
            "\u001b[0;31mFileNotFoundError\u001b[0m                         Traceback (most recent call last)",
            "\u001b[0;32m<ipython-input-3-7bbbccd4a057>\u001b[0m in \u001b[0;36m<cell line: 5>\u001b[0;34m()\u001b[0m\n\u001b[1;32m      3\u001b[0m \u001b[0;34m\u001b[0m\u001b[0m\n\u001b[1;32m      4\u001b[0m \u001b[0;31m# os.chdir allows you to change directories, like cd in the Terminal\u001b[0m\u001b[0;34m\u001b[0m\u001b[0;34m\u001b[0m\u001b[0m\n\u001b[0;32m----> 5\u001b[0;31m \u001b[0mos\u001b[0m\u001b[0;34m.\u001b[0m\u001b[0mchdir\u001b[0m\u001b[0;34m(\u001b[0m\u001b[0;34m'/content/drive/MyDrive/Colab Notebooks/data-autoencoders'\u001b[0m\u001b[0;34m)\u001b[0m\u001b[0;34m\u001b[0m\u001b[0;34m\u001b[0m\u001b[0m\n\u001b[0m",
            "\u001b[0;31mFileNotFoundError\u001b[0m: [Errno 2] No such file or directory: '/content/drive/MyDrive/Colab Notebooks/data-autoencoders'"
          ]
        }
      ],
      "source": [
        "# Put Colab in the context of this challenge\n",
        "import os\n",
        "\n",
        "# os.chdir allows you to change directories, like cd in the Terminal\n",
        "os.chdir('/content/drive/MyDrive/Colab Notebooks/data-autoencoders')"
      ]
    },
    {
      "cell_type": "markdown",
      "metadata": {
        "id": "Z0MdAwhGJdSR"
      },
      "source": [
        "You are now good to go, proceed with the challenge! Don't forget to copy everything back to your PC to upload to Kitt 🚀"
      ]
    },
    {
      "cell_type": "markdown",
      "metadata": {
        "id": "fu3kwNPNZ4p7"
      },
      "source": [
        "## (0) The MNIST Dataset\n",
        "\n",
        "In this notebook, we will train an auto-encoder to work on 28x28 grey images from the MNIST dataset, available in Keras. Run the cells below"
      ]
    },
    {
      "cell_type": "code",
      "execution_count": 4,
      "metadata": {
        "colab": {
          "base_uri": "https://localhost:8080/"
        },
        "id": "5duLpZCOZ4p7",
        "outputId": "1537d45f-1970-4c19-e5a9-b6d0df8635ee"
      },
      "outputs": [
        {
          "output_type": "stream",
          "name": "stdout",
          "text": [
            "Downloading data from https://storage.googleapis.com/tensorflow/tf-keras-datasets/mnist.npz\n",
            "11490434/11490434 [==============================] - 2s 0us/step\n",
            "(60000, 28, 28)\n",
            "(10000, 28, 28)\n"
          ]
        }
      ],
      "source": [
        "from tensorflow.keras.datasets import mnist\n",
        "\n",
        "(images_train, labels_train), (images_test, labels_test) = mnist.load_data()\n",
        "print(images_train.shape)\n",
        "print(images_test.shape)"
      ]
    },
    {
      "cell_type": "code",
      "execution_count": 5,
      "metadata": {
        "id": "4jF8QY_jZ4p7"
      },
      "outputs": [],
      "source": [
        "# Add a channels for the colors and normalize data\n",
        "X_train = images_train.reshape((60000, 28, 28, 1)) / 255.\n",
        "X_test = images_test.reshape((10000, 28, 28, 1)) / 255."
      ]
    },
    {
      "cell_type": "code",
      "execution_count": 6,
      "metadata": {
        "colab": {
          "base_uri": "https://localhost:8080/",
          "height": 163
        },
        "id": "vqDfe0h8Z4p7",
        "outputId": "21a83b83-2125-4c9c-ceb4-e1ab9ea58027"
      },
      "outputs": [
        {
          "output_type": "display_data",
          "data": {
            "text/plain": [
              "<Figure size 2000x400 with 10 Axes>"
            ],
            "image/png": "[encoded data removed]"
          },
          "metadata": {}
        }
      ],
      "source": [
        "# Plot some images\n",
        "import matplotlib.pyplot as plt\n",
        "\n",
        "f, axs = plt.subplots(1, 10, figsize=(20, 4))\n",
        "for i, ax in enumerate(axs):\n",
        "    ax.axis('off')\n",
        "    ax.imshow(X_train[i].reshape(28, 28), cmap='Greys')\n",
        "    \n",
        "plt.show()"
      ]
    },
    {
      "cell_type": "markdown",
      "metadata": {
        "id": "htkNI1BlZ4p7"
      },
      "source": [
        "## (1) The encoder"
      ]
    },
    {
      "cell_type": "markdown",
      "metadata": {
        "id": "_VcLZTeqZ4p8"
      },
      "source": [
        "🎁 First, we built the \"Encoder\" part for you.\n",
        "\n",
        "👉  Notice how similar it looks compared to a Convolutional Classifier with **latent_dimension** neurons at the end. However, we using the \"tanh\" activation function in the final dense layer instead of \"relu\"."
      ]
    },
    {
      "cell_type": "code",
      "execution_count": 7,
      "metadata": {
        "id": "7dqWxtj0Z4p8"
      },
      "outputs": [],
      "source": [
        "from tensorflow.keras import Sequential\n",
        "from tensorflow.keras.layers import Conv2D, MaxPooling2D, Flatten, Dense\n",
        "\n",
        "def build_encoder(latent_dimension):\n",
        "    '''returns an encoder model, of output_shape equals to latent_dimension'''\n",
        "    encoder = Sequential()\n",
        "    \n",
        "    encoder.add(Conv2D(8, (2,2), input_shape=(28, 28, 1), activation='relu'))\n",
        "    encoder.add(MaxPooling2D(2))\n",
        "\n",
        "    encoder.add(Conv2D(16, (2, 2), activation='relu'))\n",
        "    encoder.add(MaxPooling2D(2))\n",
        "\n",
        "    encoder.add(Conv2D(32, (2, 2), activation='relu'))\n",
        "    encoder.add(MaxPooling2D(2))     \n",
        "\n",
        "    encoder.add(Flatten())\n",
        "    encoder.add(Dense(latent_dimension, activation='tanh'))\n",
        "    \n",
        "    return encoder"
      ]
    },
    {
      "cell_type": "markdown",
      "metadata": {
        "id": "HyYuLZByZ4p8"
      },
      "source": [
        "❓ **Question: building an encoder** ❓ \n",
        "\n",
        "Build your encoder with **`latent_dimension = 2`** and look at the number of parameters."
      ]
    },
    {
      "cell_type": "code",
      "execution_count": 8,
      "metadata": {
        "colab": {
          "base_uri": "https://localhost:8080/"
        },
        "id": "osT4mGsLZ4p8",
        "outputId": "5f917fbf-3035-4175-b927-96e3e153dc68",
        "tags": [
          "challengify"
        ]
      },
      "outputs": [
        {
          "output_type": "stream",
          "name": "stdout",
          "text": [
            "Model: \"sequential\"\n",
            "_________________________________________________________________\n",
            " Layer (type)                Output Shape              Param #   \n",
            "=================================================================\n",
            " conv2d (Conv2D)             (None, 27, 27, 8)         40        \n",
            "                                                                 \n",
            " max_pooling2d (MaxPooling2D  (None, 13, 13, 8)        0         \n",
            " )                                                               \n",
            "                                                                 \n",
            " conv2d_1 (Conv2D)           (None, 12, 12, 16)        528       \n",
            "                                                                 \n",
            " max_pooling2d_1 (MaxPooling  (None, 6, 6, 16)         0         \n",
            " 2D)                                                             \n",
            "                                                                 \n",
            " conv2d_2 (Conv2D)           (None, 5, 5, 32)          2080      \n",
            "                                                                 \n",
            " max_pooling2d_2 (MaxPooling  (None, 2, 2, 32)         0         \n",
            " 2D)                                                             \n",
            "                                                                 \n",
            " flatten (Flatten)           (None, 128)               0         \n",
            "                                                                 \n",
            " dense (Dense)               (None, 2)                 258       \n",
            "                                                                 \n",
            "=================================================================\n",
            "Total params: 2,906\n",
            "Trainable params: 2,906\n",
            "Non-trainable params: 0\n",
            "_________________________________________________________________\n"
          ]
        }
      ],
      "source": [
        "encoder = build_encoder(latent_dimension=2)\n",
        "encoder.summary()"
      ]
    },
    {
      "cell_type": "markdown",
      "metadata": {
        "id": "QwQY7i4KZ4p8"
      },
      "source": [
        "## (2) Decoder"
      ]
    },
    {
      "cell_type": "markdown",
      "metadata": {
        "id": "lVPLjHLtZ4p8"
      },
      "source": [
        "It's your turn to build the decoder this time!\n",
        "\n",
        "We need to build a 🔥 **`reversed CNN` 🔥** that \n",
        "* takes a dense layer as input,\n",
        "* and outputs an image of shape $ (28,28,1) $ similar to our MNIST images. \n",
        "\n",
        "📚 For this purpose, we will use a new layer called <a href=\"https://www.tensorflow.org/api_docs/python/tf/keras/layers/Conv2DTranspose\">**`Conv2DTranspose`**</a> 📚\n",
        "    \n",
        "The name of this layer speaks for itself: it performs the opposite of a convolution operation!\n",
        "\n",
        "💡 We will follow this strategy:\n",
        "* Start by reshaping the Dense Input Layer into an Image of shape $(7,7,..)$\n",
        "* Then apply the `Conv2DTranspose` operation with ***strides = 2*** to double the output shape to $(14,14,..)$\n",
        "* then add another Conv2DTranpose layer on top of the first one to make it $(28,28,1)$.\n",
        "\n",
        "<hr>\n",
        "\n",
        "❓ **Question: the architecture of a decoder** ❓ \n",
        "\n",
        "\n",
        "Define a **`decoding architecture`** in the method below as follows:\n",
        "- a *Dense* layer with:\n",
        "    - $7 \\times 7 \\times 8$ neurons, \n",
        "    - *input_shape* = (latent_dimension, )\n",
        "    - *tanh* activation function. \n",
        "- a *Reshape* layer that reshapes to $(7, 7, 8)$ tensors\n",
        "- a *Conv2DTranspose* with:\n",
        "    - $8$ filters, \n",
        "    - $(2,2)$ kernels, \n",
        "    - strides of $2$, \n",
        "    - padding *same* \n",
        "    - _relu_ activation function\n",
        "- a second Conv2DTranspose layer with:\n",
        "    - $1$ filter,\n",
        "    - $(2,2)$ kernels,\n",
        "    - strides of $2$,\n",
        "    - padding _same_,\n",
        "    - _relu_ activation function"
      ]
    },
    {
      "cell_type": "code",
      "execution_count": 9,
      "metadata": {
        "id": "lAyZKVSEZ4p9"
      },
      "outputs": [],
      "source": [
        "from numpy.lib import stride_tricks\n",
        "from tensorflow.keras.layers import Reshape, Conv2DTranspose\n",
        "from tensorflow.keras import layers, models\n",
        "def build_decoder(latent_dimension):\n",
        "    \n",
        "    decoder = Sequential()\n",
        "\n",
        "    decoder.add(Dense(7 * 7 * 8, activation=\"tanh\", input_shape=(latent_dimension,)))\n",
        "    decoder.add(Reshape((7,7,8)))\n",
        "\n",
        "    decoder.add(Conv2DTranspose(8, (2,2), strides=2, padding=\"same\", activation=\"relu\"))\n",
        "    decoder.add(Conv2DTranspose(1, (2,2), strides=2, padding=\"same\", activation=\"relu\"))\n",
        "\n",
        "    return decoder"
      ]
    },
    {
      "cell_type": "markdown",
      "metadata": {
        "id": "P2twv_e7Z4p9"
      },
      "source": [
        "❓ **Question: buiding a decoder** ❓ \n",
        "\n",
        "Build your decoder with **`latent_dimension = 2`** and check that it outputs images of same shape than the encoder input"
      ]
    },
    {
      "cell_type": "code",
      "execution_count": 10,
      "metadata": {
        "colab": {
          "base_uri": "https://localhost:8080/"
        },
        "id": "nvsK6kW4Z4p9",
        "outputId": "e76247ac-64f8-4dab-9427-df557facaaa5",
        "tags": [
          "challengify"
        ]
      },
      "outputs": [
        {
          "output_type": "stream",
          "name": "stdout",
          "text": [
            "Model: \"sequential_1\"\n",
            "_________________________________________________________________\n",
            " Layer (type)                Output Shape              Param #   \n",
            "=================================================================\n",
            " dense_1 (Dense)             (None, 392)               1176      \n",
            "                                                                 \n",
            " reshape (Reshape)           (None, 7, 7, 8)           0         \n",
            "                                                                 \n",
            " conv2d_transpose (Conv2DTra  (None, 14, 14, 8)        264       \n",
            " nspose)                                                         \n",
            "                                                                 \n",
            " conv2d_transpose_1 (Conv2DT  (None, 28, 28, 1)        33        \n",
            " ranspose)                                                       \n",
            "                                                                 \n",
            "=================================================================\n",
            "Total params: 1,473\n",
            "Trainable params: 1,473\n",
            "Non-trainable params: 0\n",
            "_________________________________________________________________\n"
          ]
        }
      ],
      "source": [
        "# YOUR CODE HERE\n",
        "decoder = build_decoder(2)\n",
        "decoder.summary()"
      ]
    },
    {
      "cell_type": "markdown",
      "metadata": {
        "id": "ypHl089KZ4p9"
      },
      "source": [
        "## (3) Auto-Encoder"
      ]
    },
    {
      "cell_type": "markdown",
      "metadata": {
        "id": "VZSJi8BmZ4p9"
      },
      "source": [
        "🎉 We can now **concatenate** both **`the encoder and the decoder`** thanks to the **`Model`** class in Keras, using the **`Functional API`**."
      ]
    },
    {
      "cell_type": "code",
      "execution_count": 11,
      "metadata": {
        "id": "KP8doE9AZ4p9"
      },
      "outputs": [],
      "source": [
        "from tensorflow.keras import Model\n",
        "from tensorflow.keras.layers import Input\n",
        "\n",
        "def build_autoencoder(encoder, decoder):\n",
        "    inp = Input((28, 28,1))\n",
        "    encoded = encoder(inp)\n",
        "    decoded = decoder(encoded)\n",
        "    autoencoder = Model(inp, decoded)\n",
        "    return autoencoder"
      ]
    },
    {
      "cell_type": "markdown",
      "metadata": {
        "id": "UmBjTx4DZ4p9"
      },
      "source": [
        "❓ **Questions** ❓ \n",
        "\n",
        "* Try to understand syntax above 👆 \n",
        "* Build your autoencoder\n",
        "* Have a look at the number of parameters"
      ]
    },
    {
      "cell_type": "code",
      "execution_count": 12,
      "metadata": {
        "colab": {
          "base_uri": "https://localhost:8080/"
        },
        "id": "nz9CNYMXZ4p-",
        "outputId": "7273c919-bac8-4300-e1dc-beea87d60946",
        "tags": [
          "challengify"
        ]
      },
      "outputs": [
        {
          "output_type": "stream",
          "name": "stdout",
          "text": [
            "Model: \"model\"\n",
            "_________________________________________________________________\n",
            " Layer (type)                Output Shape              Param #   \n",
            "=================================================================\n",
            " input_1 (InputLayer)        [(None, 28, 28, 1)]       0         \n",
            "                                                                 \n",
            " sequential (Sequential)     (None, 2)                 2906      \n",
            "                                                                 \n",
            " sequential_1 (Sequential)   (None, 28, 28, 1)         1473      \n",
            "                                                                 \n",
            "=================================================================\n",
            "Total params: 4,379\n",
            "Trainable params: 4,379\n",
            "Non-trainable params: 0\n",
            "_________________________________________________________________\n"
          ]
        }
      ],
      "source": [
        "# YOUR CODE HERE\n",
        "autoencoder = build_autoencoder(encoder, decoder)\n",
        "autoencoder.summary()\n"
      ]
    },
    {
      "cell_type": "markdown",
      "metadata": {
        "id": "AZr5LnK2Z4p-"
      },
      "source": [
        "❓ **Question: Compiling an autoencoder** ❓ \n",
        "\n",
        "Define a method which compiles your model. Pick an appropriate loss.\n",
        "\n",
        "<u><i>Think carefully:</i></u> 🤔 On which mathematical object are we going to compare *predictions* and the *ground truth* for the computation of the loss function and the metrics?\n",
        "\n",
        "\n",
        "<details>\n",
        "    <summary><i>Answer</i></summary>\n",
        "\n",
        "It should compare two images (Black and White in our case), pixel-by-pixel!\n",
        "    \n",
        "The MSE loss seems to be an appropriate loss function for pixel-by-pixel error minimization.\n",
        "</details>"
      ]
    },
    {
      "cell_type": "code",
      "execution_count": 13,
      "metadata": {
        "id": "55oM3lFwZ4p-",
        "tags": [
          "challengify"
        ]
      },
      "outputs": [],
      "source": [
        "# YOUR CODE HERE\n",
        "autoencoder.compile(loss=\"mse\",\n",
        "                    optimizer=\"adam\")"
      ]
    },
    {
      "cell_type": "markdown",
      "metadata": {
        "id": "Sux3UYMWZ4p-"
      },
      "source": [
        "❓ **Question: Training an autoencoder** ❓  \n",
        "\n",
        "* Compile your model and fit it with `batch_size = 32` and `epochs = 20`. \n",
        "* What is the label `y_train` in this case?\n",
        "\n",
        "<i>Note:</i> Don't waste your time fighting overfitting in this challenge, you will have time to care about this during the project weeks :)"
      ]
    },
    {
      "cell_type": "code",
      "execution_count": 14,
      "metadata": {
        "colab": {
          "base_uri": "https://localhost:8080/"
        },
        "id": "Qk13NOy4Z4p-",
        "outputId": "3e9603b6-45a0-40fa-b128-97cd352985a6",
        "tags": [
          "challengify"
        ]
      },
      "outputs": [
        {
          "output_type": "stream",
          "name": "stdout",
          "text": [
            "Epoch 1/20\n",
            "1875/1875 [==============================] - 23s 6ms/step - loss: 0.0597\n",
            "Epoch 2/20\n",
            "1875/1875 [==============================] - 11s 6ms/step - loss: 0.0544\n",
            "Epoch 3/20\n",
            "1875/1875 [==============================] - 11s 6ms/step - loss: 0.0532\n",
            "Epoch 4/20\n",
            "1875/1875 [==============================] - 10s 5ms/step - loss: 0.0525\n",
            "Epoch 5/20\n",
            "1875/1875 [==============================] - 11s 6ms/step - loss: 0.0522\n",
            "Epoch 6/20\n",
            "1875/1875 [==============================] - 11s 6ms/step - loss: 0.0520\n",
            "Epoch 7/20\n",
            "1875/1875 [==============================] - 11s 6ms/step - loss: 0.0518\n",
            "Epoch 8/20\n",
            "1875/1875 [==============================] - 10s 5ms/step - loss: 0.0517\n",
            "Epoch 9/20\n",
            "1875/1875 [==============================] - 11s 6ms/step - loss: 0.0515\n",
            "Epoch 10/20\n",
            "1875/1875 [==============================] - 11s 6ms/step - loss: 0.0514\n",
            "Epoch 11/20\n",
            "1875/1875 [==============================] - 10s 5ms/step - loss: 0.0513\n",
            "Epoch 12/20\n",
            "1875/1875 [==============================] - 11s 6ms/step - loss: 0.0513\n",
            "Epoch 13/20\n",
            "1875/1875 [==============================] - 11s 6ms/step - loss: 0.0512\n",
            "Epoch 14/20\n",
            "1875/1875 [==============================] - 11s 6ms/step - loss: 0.0512\n",
            "Epoch 15/20\n",
            "1875/1875 [==============================] - 10s 5ms/step - loss: 0.0511\n",
            "Epoch 16/20\n",
            "1875/1875 [==============================] - 11s 6ms/step - loss: 0.0511\n",
            "Epoch 17/20\n",
            "1875/1875 [==============================] - 11s 6ms/step - loss: 0.0510\n",
            "Epoch 18/20\n",
            "1875/1875 [==============================] - 10s 6ms/step - loss: 0.0510\n",
            "Epoch 19/20\n",
            "1875/1875 [==============================] - 10s 5ms/step - loss: 0.0509\n",
            "Epoch 20/20\n",
            "1875/1875 [==============================] - 11s 6ms/step - loss: 0.0509\n"
          ]
        },
        {
          "output_type": "execute_result",
          "data": {
            "text/plain": [
              "<keras.callbacks.History at 0x7f01f816bd00>"
            ]
          },
          "metadata": {},
          "execution_count": 14
        }
      ],
      "source": [
        "# YOUR CODE HERE\n",
        "autoencoder.fit(X_train,\n",
        "                X_train,\n",
        "                batch_size=32,\n",
        "                epochs=20)"
      ]
    },
    {
      "cell_type": "markdown",
      "metadata": {
        "id": "v2O9sW6FZ4p_"
      },
      "source": [
        "❓ **Question: Encoding the dataset** ❓\n",
        "\n",
        "* Using only the encoder part of the network, encode your dataset and save it under `X_encoded` . \n",
        "    * Each image is now represented by two values (that correspond to the dimension of the latent space, of the bottleneck; aka the `latent_dimension`. "
      ]
    },
    {
      "cell_type": "code",
      "execution_count": 15,
      "metadata": {
        "id": "J-BmhxwhZ4p_",
        "tags": [
          "challengify"
        ],
        "colab": {
          "base_uri": "https://localhost:8080/"
        },
        "outputId": "f0f3dab7-1b8e-45cc-a605-3bf9f04d943b"
      },
      "outputs": [
        {
          "output_type": "stream",
          "name": "stdout",
          "text": [
            "1875/1875 [==============================] - 5s 3ms/step\n"
          ]
        }
      ],
      "source": [
        "# YOUR CODE HERE\n",
        "X_encoded = encoder.predict(X_train)"
      ]
    },
    {
      "cell_type": "markdown",
      "metadata": {
        "id": "JX_35d9UZ4p_"
      },
      "source": [
        "🤔 Where are we after running the encoder?\n",
        "\n",
        "* Each image was compressed into a 2D space. \n",
        "* Each of these handwritten digit have a given label, between 0 and 9, but the goal here is not to classify these pictures like in the first challenge but to **reconstruct the original image before the compression**."
      ]
    },
    {
      "cell_type": "markdown",
      "metadata": {
        "id": "ReYziVSoZ4p_"
      },
      "source": [
        "❓ **Question: Visualizing handwritten digits in the latent space** ❓ \n",
        "\n",
        "Scatterplot the encoded data (only a small fraction of the encoded dataset for visibility purposes...)\n",
        "- Each point of the scatter plot  corresponds to an encoded image\n",
        "- Color the dots according to their respective labels (digit representation):\n",
        "    - for instance, all the \"4\"s should be represented by a color on this scatter plot...\n",
        "    - ...while the \"5\" should be represented by another color\n",
        "    - choose a set of [`qualitative colormaps`](https://matplotlib.org/stable/gallery/color/colormap_reference.html)\n",
        "\n",
        "What do you remark about this plot? "
      ]
    },
    {
      "cell_type": "code",
      "execution_count": 16,
      "metadata": {
        "id": "esW5nugAZ4p_",
        "colab": {
          "base_uri": "https://localhost:8080/"
        },
        "outputId": "3bc329e3-2b77-4a2b-a057-25253ddae2e3"
      },
      "outputs": [
        {
          "output_type": "execute_result",
          "data": {
            "text/plain": [
              "array([5, 0, 4, 1, 9, 2, 1, 3, 1, 4, 3, 5, 3, 6, 1, 7, 2, 8, 6, 9, 4, 0,\n",
              "       9, 1, 1, 2, 4, 3, 2, 7, 3, 8, 6, 9, 0, 5, 6, 0, 7, 6, 1, 8, 7, 9,\n",
              "       3, 9, 8, 5, 9, 3, 3, 0, 7, 4, 9, 8, 0, 9, 4, 1, 4, 4, 6, 0, 4, 5,\n",
              "       6, 1, 0, 0, 1, 7, 1, 6, 3, 0, 2, 1, 1, 7, 9, 0, 2, 6, 7, 8, 3, 9,\n",
              "       0, 4, 6, 7, 4, 6, 8, 0, 7, 8, 3, 1, 5, 7, 1, 7, 1, 1, 6, 3, 0, 2,\n",
              "       9, 3, 1, 1, 0, 4, 9, 2, 0, 0, 2, 0, 2, 7, 1, 8, 6, 4, 1, 6, 3, 4,\n",
              "       5, 9, 1, 3, 3, 8, 5, 4, 7, 7, 4, 2, 8, 5, 8, 6, 7, 3, 4, 6, 1, 9,\n",
              "       9, 6, 0, 3, 7, 2, 8, 2, 9, 4, 4, 6, 4, 9, 7, 0, 9, 2, 9, 5, 1, 5,\n",
              "       9, 1, 2, 3, 2, 3, 5, 9, 1, 7, 6, 2, 8, 2, 2, 5, 0, 7, 4, 9, 7, 8,\n",
              "       3, 2, 1, 1, 8, 3, 6, 1, 0, 3, 1, 0, 0, 1, 7, 2, 7, 3, 0, 4, 6, 5,\n",
              "       2, 6, 4, 7, 1, 8, 9, 9, 3, 0, 7, 1, 0, 2, 0, 3, 5, 4, 6, 5, 8, 6,\n",
              "       3, 7, 5, 8, 0, 9, 1, 0, 3, 1, 2, 2, 3, 3, 6, 4, 7, 5, 0, 6, 2, 7,\n",
              "       9, 8, 5, 9, 2, 1, 1, 4, 4, 5, 6, 4, 1, 2, 5, 3, 9, 3, 9, 0, 5, 9,\n",
              "       6, 5, 7, 4, 1, 3, 4, 0, 4, 8, 0, 4, 3, 6], dtype=uint8)"
            ]
          },
          "metadata": {},
          "execution_count": 16
        }
      ],
      "source": [
        "labels_train[:300]"
      ]
    },
    {
      "cell_type": "code",
      "execution_count": 17,
      "metadata": {
        "id": "mAS-vl1OZ4p_",
        "tags": [
          "challengify"
        ],
        "colab": {
          "base_uri": "https://localhost:8080/",
          "height": 430
        },
        "outputId": "4c2eeddb-30ed-4b68-e043-6d4bb8ba6a5f"
      },
      "outputs": [
        {
          "output_type": "display_data",
          "data": {
            "text/plain": [
              "<Figure size 640x480 with 1 Axes>"
            ],
            "image/png": "[encoded data removed]"
          },
          "metadata": {}
        }
      ],
      "source": [
        "# YOUR CODE HERE\n",
        "import seaborn as sns\n",
        "\n",
        "plt.scatter(x = X_encoded[:250, 0],\n",
        "            y = X_encoded[:250, 1],\n",
        "            c = labels_train[:250],\n",
        "            cmap=\"magma\");"
      ]
    },
    {
      "cell_type": "markdown",
      "metadata": {
        "id": "jmGKIrO6Z4qA"
      },
      "source": [
        "## (4) Application: Image generation"
      ]
    },
    {
      "cell_type": "markdown",
      "metadata": {
        "id": "1mdTdXS5Z4qA"
      },
      "source": [
        "❓ **Questions: Generate new digits** ❓ \n",
        "\n",
        "* Let's create some new digits!\n",
        "* Run the following code editing the latent coordinates.\n",
        "* Play with the coordinates start with ones from the graph above.\n",
        "* For example [0.75, 0.75] is the \"zero\" area with latent space (don't forget to experiment outside the boundaries of our original dataset)"
      ]
    },
    {
      "cell_type": "code",
      "execution_count": 20,
      "metadata": {
        "colab": {
          "base_uri": "https://localhost:8080/",
          "height": 466
        },
        "id": "LT-RFQKfmDmS",
        "outputId": "19cf5d4e-d3ab-4b37-8dae-b4e6f8ad65c2"
      },
      "outputs": [
        {
          "output_type": "stream",
          "name": "stdout",
          "text": [
            "1/1 [==============================] - 0s 22ms/step\n"
          ]
        },
        {
          "output_type": "execute_result",
          "data": {
            "text/plain": [
              "<matplotlib.image.AxesImage at 0x7f015bf381c0>"
            ]
          },
          "metadata": {},
          "execution_count": 20
        },
        {
          "output_type": "display_data",
          "data": {
            "text/plain": [
              "<Figure size 640x480 with 1 Axes>"
            ],
            "image/png": "[encoded data removed]"
          },
          "metadata": {}
        }
      ],
      "source": [
        "import numpy as np\n",
        "\n",
        "latent_coords = np.array([[0.75, -0.75]]) \n",
        "generated_img = decoder.predict(latent_coords) \n",
        "plt.imshow(generated_img.reshape(28,28), cmap='Greys')"
      ]
    },
    {
      "cell_type": "markdown",
      "metadata": {
        "id": "kJs1byDzmDmS"
      },
      "source": [
        "❗️ We can reuse the decoder of auto encoders as one of the simplest forms of generative deep learning. When we enter coordinates that were not in the training dataset **we are creating never seen before digits!**"
      ]
    },
    {
      "cell_type": "markdown",
      "metadata": {
        "id": "5GvClW0JmDmS"
      },
      "source": [
        "## (5) Application: Image denoising"
      ]
    },
    {
      "cell_type": "markdown",
      "metadata": {
        "id": "ElFM3KSKmDmS"
      },
      "source": [
        "❓ **Questions: Creating some noise in the dataset** ❓ \n",
        "\n",
        "* Let's add some noise to the input data. \n",
        "* Run the following code\n",
        "* Plot some handwritten digits and their noisy versions"
      ]
    },
    {
      "cell_type": "code",
      "execution_count": 21,
      "metadata": {
        "id": "2vTppRiPZ4qA"
      },
      "outputs": [],
      "source": [
        "noise_factor = 0.5\n",
        "\n",
        "X_train_noisy = X_train + noise_factor * np.random.normal(0., 1., size=X_train.shape)\n",
        "X_test_noisy = X_test + noise_factor * np.random.normal(0., 1., size=X_test.shape)"
      ]
    },
    {
      "cell_type": "code",
      "execution_count": 22,
      "metadata": {
        "id": "dtREE11sZ4qA",
        "tags": [
          "challengify"
        ],
        "colab": {
          "base_uri": "https://localhost:8080/",
          "height": 529
        },
        "outputId": "c32a827f-dddb-495b-b5da-ccdffc6b328b"
      },
      "outputs": [
        {
          "output_type": "display_data",
          "data": {
            "text/plain": [
              "<Figure size 600x400 with 2 Axes>"
            ],
            "image/png": "[encoded data removed]"
          },
          "metadata": {}
        },
        {
          "output_type": "display_data",
          "data": {
            "text/plain": [
              "<Figure size 600x400 with 2 Axes>"
            ],
            "image/png": "[encoded data removed]"
          },
          "metadata": {}
        }
      ],
      "source": [
        "# YOUR CODE HERE\n",
        "\n",
        "for i in range(2):\n",
        "  fig, (ax1, ax2) = plt.subplots(1, 2, figsize=(6, 4))\n",
        "  ax1.imshow(X_train[i].reshape(28,28), cmap=\"Greys\")\n",
        "  ax2.imshow(X_train_noisy[i].reshape(28,28), cmap=\"Greys\")\n",
        "  plt.show()"
      ]
    },
    {
      "cell_type": "markdown",
      "metadata": {
        "id": "rhm2ETi4Z4qA"
      },
      "source": [
        "❓ **Question: decoding the noisy pictures** ❓ \n",
        "\n",
        "* Reinitialize your autoencoder (with a latent space of 2) \n",
        "* Train it again, this time using the noisy train dataset instead of the normal train dataset\n",
        "    * *Keep `batch_size = 32` and `epochs = 5`*\n",
        "* What do you expect if you run the autoencoder on the noisy data instead of the original data in terms of performance?"
      ]
    },
    {
      "cell_type": "code",
      "execution_count": 23,
      "metadata": {
        "id": "VBt7w1XxZ4qB",
        "tags": [
          "challengify"
        ],
        "colab": {
          "base_uri": "https://localhost:8080/"
        },
        "outputId": "598b96b6-dbac-4318-88de-bf698a7ba78d"
      },
      "outputs": [
        {
          "output_type": "stream",
          "name": "stdout",
          "text": [
            "Epoch 1/5\n",
            "1875/1875 [==============================] - 14s 6ms/step - loss: 0.0597\n",
            "Epoch 2/5\n",
            "1875/1875 [==============================] - 11s 6ms/step - loss: 0.0535\n",
            "Epoch 3/5\n",
            "1875/1875 [==============================] - 10s 5ms/step - loss: 0.0526\n",
            "Epoch 4/5\n",
            "1875/1875 [==============================] - 12s 6ms/step - loss: 0.0522\n",
            "Epoch 5/5\n",
            "1875/1875 [==============================] - 12s 6ms/step - loss: 0.0520\n"
          ]
        }
      ],
      "source": [
        "# YOUR CODE HERE\n",
        "encoder = build_encoder(latent_dimension=2)\n",
        "decoder = build_decoder(latent_dimension=2)\n",
        "autoencoder = build_autoencoder(encoder,decoder)\n",
        "\n",
        "autoencoder.compile(loss=\"mse\",\n",
        "                    optimizer=\"adam\")\n",
        "\n",
        "history = autoencoder.fit(X_train,\n",
        "                X_train,\n",
        "                batch_size=32,\n",
        "                epochs=5)"
      ]
    },
    {
      "cell_type": "markdown",
      "metadata": {
        "id": "UjoWn2ojZ4qB"
      },
      "source": [
        "❓ **Question: comparing the noisy test images with the denoised images** ❓ \n",
        "\n",
        "For some noisy test images, predict the denoised images and plot the results side by side..."
      ]
    },
    {
      "cell_type": "code",
      "execution_count": 24,
      "metadata": {
        "id": "qxelVG8JZ4qB",
        "tags": [
          "challengify"
        ],
        "colab": {
          "base_uri": "https://localhost:8080/",
          "height": 529
        },
        "outputId": "8368de8e-7600-4a9c-acef-2785d10a92ed"
      },
      "outputs": [
        {
          "output_type": "display_data",
          "data": {
            "text/plain": [
              "<Figure size 600x400 with 2 Axes>"
            ],
            "image/png": "[encoded data removed]"
          },
          "metadata": {}
        },
        {
          "output_type": "display_data",
          "data": {
            "text/plain": [
              "<Figure size 600x400 with 2 Axes>"
            ],
            "image/png": "[encoded data removed]"
          },
          "metadata": {}
        }
      ],
      "source": [
        "# YOUR CODE HERE\n",
        "\n",
        "for i in range(2):\n",
        "  fig, (ax1, ax2) = plt.subplots(1, 2, figsize=(6, 4))\n",
        "  ax1.imshow(X_train[i].reshape(28,28), cmap=\"Greys\")\n",
        "  ax2.imshow(X_train_noisy[i].reshape(28,28), cmap=\"Greys\")\n",
        "  plt.show()"
      ]
    },
    {
      "cell_type": "markdown",
      "metadata": {
        "id": "oluypjaBZ4qB"
      },
      "source": [
        "❓ **Question: choosing the \"correct\" latent_dimension** ❓ \n",
        "\n",
        "Now, try to evaluate which **`latent_dimension`** is the most suitable in order to have **`the best image reconstruction preprocess`** $ \\Leftrightarrow $ How to remove as much noise as possible in the noisy dataset using the latent dimension?`"
      ]
    },
    {
      "cell_type": "code",
      "execution_count": 25,
      "metadata": {
        "id": "xkanHoBvZ4qB",
        "colab": {
          "base_uri": "https://localhost:8080/"
        },
        "outputId": "e45ce110-26de-4e1a-dc22-d12de28f9bb3"
      },
      "outputs": [
        {
          "output_type": "stream",
          "name": "stdout",
          "text": [
            "Epoch 1/5\n",
            "1875/1875 [==============================] - 14s 6ms/step - loss: 0.0518\n",
            "Epoch 2/5\n",
            "1875/1875 [==============================] - 11s 6ms/step - loss: 0.0516\n",
            "Epoch 3/5\n",
            "1875/1875 [==============================] - 11s 6ms/step - loss: 0.0514\n",
            "Epoch 4/5\n",
            "1875/1875 [==============================] - 11s 6ms/step - loss: 0.0513\n",
            "Epoch 5/5\n",
            "1875/1875 [==============================] - 11s 6ms/step - loss: 0.0512\n",
            "313/313 [==============================] - 1s 3ms/step - loss: 0.0509\n",
            "Epoch 1/5\n",
            "1875/1875 [==============================] - 14s 6ms/step - loss: 0.0512\n",
            "Epoch 2/5\n",
            "1875/1875 [==============================] - 11s 6ms/step - loss: 0.0511\n",
            "Epoch 3/5\n",
            "1875/1875 [==============================] - 10s 5ms/step - loss: 0.0510\n",
            "Epoch 4/5\n",
            "1875/1875 [==============================] - 11s 6ms/step - loss: 0.0509\n",
            "Epoch 5/5\n",
            "1875/1875 [==============================] - 11s 6ms/step - loss: 0.0508\n",
            "313/313 [==============================] - 1s 3ms/step - loss: 0.0505\n",
            "Epoch 1/5\n",
            "1875/1875 [==============================] - 14s 6ms/step - loss: 0.0507\n",
            "Epoch 2/5\n",
            "1875/1875 [==============================] - 11s 6ms/step - loss: 0.0507\n",
            "Epoch 3/5\n",
            "1875/1875 [==============================] - 11s 6ms/step - loss: 0.0506\n",
            "Epoch 4/5\n",
            "1875/1875 [==============================] - 10s 5ms/step - loss: 0.0505\n",
            "Epoch 5/5\n",
            "1875/1875 [==============================] - 11s 6ms/step - loss: 0.0505\n",
            "313/313 [==============================] - 1s 3ms/step - loss: 0.0502\n",
            "Epoch 1/5\n",
            "1875/1875 [==============================] - 14s 6ms/step - loss: 0.0504\n",
            "Epoch 2/5\n",
            "1875/1875 [==============================] - 11s 6ms/step - loss: 0.0504\n",
            "Epoch 3/5\n",
            "1875/1875 [==============================] - 11s 6ms/step - loss: 0.0504\n",
            "Epoch 4/5\n",
            "1875/1875 [==============================] - 10s 6ms/step - loss: 0.0503\n",
            "Epoch 5/5\n",
            "1875/1875 [==============================] - 11s 6ms/step - loss: 0.0503\n",
            "313/313 [==============================] - 1s 3ms/step - loss: 0.0502\n",
            "Epoch 1/5\n",
            "1875/1875 [==============================] - 14s 5ms/step - loss: 0.0503\n",
            "Epoch 2/5\n",
            "1875/1875 [==============================] - 11s 6ms/step - loss: 0.0502\n",
            "Epoch 3/5\n",
            "1875/1875 [==============================] - 11s 6ms/step - loss: 0.0502\n",
            "Epoch 4/5\n",
            "1875/1875 [==============================] - 11s 6ms/step - loss: 0.0502\n",
            "Epoch 5/5\n",
            "1875/1875 [==============================] - 11s 6ms/step - loss: 0.0502\n",
            "313/313 [==============================] - 2s 5ms/step - loss: 0.0498\n",
            "Epoch 1/5\n",
            "1875/1875 [==============================] - 15s 6ms/step - loss: 0.0501\n",
            "Epoch 2/5\n",
            "1875/1875 [==============================] - 11s 6ms/step - loss: 0.0501\n",
            "Epoch 3/5\n",
            "1875/1875 [==============================] - 9s 5ms/step - loss: 0.0501\n",
            "Epoch 4/5\n",
            "1875/1875 [==============================] - 9s 5ms/step - loss: 0.0501\n",
            "Epoch 5/5\n",
            "1875/1875 [==============================] - 9s 5ms/step - loss: 0.0500\n",
            "313/313 [==============================] - 1s 4ms/step - loss: 0.0499\n"
          ]
        }
      ],
      "source": [
        "# YOUR ANSWER HERE\n",
        "\n",
        "l_dim = list(range(2,20,3))\n",
        "build_encoder(latent_dimension=i)\n",
        "build_decoder(latent_dimension=i)\n",
        "\n",
        "error = []\n",
        "\n",
        "for i in l_dim:\n",
        "  encoder = build_encoder(latent_dimension=i)\n",
        "  decoder = build_decoder(latent_dimension=i)\n",
        "  auto_encoder = build_autoencoder(encoder, decoder)\n",
        "\n",
        "  autoencoder.compile(loss=\"mse\",\n",
        "                    optimizer=\"adam\")\n",
        "  autoencoder.fit(X_train,\n",
        "                  X_train,\n",
        "                  epochs=5,\n",
        "                  batch_size=32)\n",
        "  evaluate = autoencoder.evaluate(X_test, X_test)\n",
        "  error.append(evaluate)\n",
        "\n"
      ]
    },
    {
      "cell_type": "markdown",
      "metadata": {
        "id": "MOwthU6KZ4qC"
      },
      "source": [
        "🥡 <b><u>Conclusion</u></b>\n",
        "\n",
        "\n",
        "* It is obvious that:\n",
        "    * if you compress your pictures of size $ 28 \\times 28 $ into a 1D space, you will lose a ton of information. \n",
        "    * if you compress them into a $ 28 \\times 28 = 784$ -space, you are actually not compressing them\n",
        "    \n",
        "* We can still use this graph of **Loss vs. Latent dimensions** reading it from right to left to decide in which latent space it would be advisable to compress the pictures without losing to much information: `latent_space = 8` seems a sweat spot here using the Elbow Method."
      ]
    },
    {
      "cell_type": "markdown",
      "metadata": {
        "id": "6b2CoAHvZ4qC"
      },
      "source": [
        "---\n",
        "\n",
        "🏁 **Congratulations** 🏁 \n",
        "\n",
        "1. Download this notebook from your `Google Drive` or directly from `Google Colab` \n",
        "2. Drag-and-drop it from your `Downloads` folder to your local challenge folder\n",
        "\n",
        "\n",
        "💾 Don't forget to push your code\n",
        "\n",
        "3. Follow the usual procedure on your terminal inside the challenge folder:\n",
        "      * *git add autoencoders.ipynb*\n",
        "      * *git commit -m \"I am the god of Transfer Learning\"*\n",
        "      * *git push origin master*\n",
        "\n",
        "*Hint*: To find where this Colab notebook has been saved, click on `File` $\\rightarrow$ `Locate in Drive`.\n",
        "\n",
        "😉 That was the last challenge of this module!"
      ]
    },
    {
      "cell_type": "markdown",
      "metadata": {
        "id": "Btc5iAFhmDmV"
      },
      "source": []
    }
  ],
  "metadata": {
    "kernelspec": {
      "display_name": "Python 3",
      "language": "python",
      "name": "python3"
    },
    "colab": {
      "provenance": [],
      "gpuType": "T4"
    },
    "accelerator": "GPU",
    "gpuClass": "standard"
  },
  "nbformat": 4,
  "nbformat_minor": 0
}